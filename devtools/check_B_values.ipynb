{
 "cells": [
  {
   "cell_type": "code",
   "execution_count": null,
   "metadata": {},
   "outputs": [],
   "source": [
    "%load_ext autoreload\n",
    "%autoreload 2\n",
    "\n",
    "import sys, os\n",
    "sys.path.append(\"../\")\n"
   ]
  },
  {
   "cell_type": "code",
   "execution_count": null,
   "metadata": {},
   "outputs": [],
   "source": [
    "import numpy as np\n",
    "from iotools import simulate\n",
    "\n",
    "nsamples = 200\n",
    "ngenes   = 100\n",
    "nsnps    = 1\n",
    "\n",
    "expr = np.random.normal(0, 1, ngenes*nsamples).reshape(ngenes, nsamples)\n",
    "snpinfo, gtnorm, gtcent = simulate.permuted_dosage(expr, nsnp = nsnps, fmin = 0.1, fmax = 0.9)\n"
   ]
  },
  {
   "cell_type": "code",
   "execution_count": null,
   "metadata": {},
   "outputs": [],
   "source": [
    "# Get genotype variance as in C\n",
    "import numpy as np\n",
    "import ctypes\n",
    "import os\n",
    "\n",
    "def gt_var(geno):\n",
    "    clib = np.ctypeslib.load_library('../lib/reverse_regression.so', \".\")\n",
    "    cgt_var = clib.genotype_variance\n",
    "    cgt_var.restype = ctypes.c_bool\n",
    "    cgt_var.argtypes = [np.ctypeslib.ndpointer(ctypes.c_double, ndim=1, flags='C_CONTIGUOUS, ALIGNED'),\n",
    "                        ctypes.c_int,\n",
    "                        ctypes.c_int,\n",
    "                        np.ctypeslib.ndpointer(ctypes.c_double, ndim=1, flags='C_CONTIGUOUS, ALIGNED'),\n",
    "                        ctypes.c_int                        \n",
    "                       ]\n",
    "    x = geno.reshape(-1,)\n",
    "    nsnps = geno.shape[0]\n",
    "    nsamples = geno.shape[1]\n",
    "    SX2 = np.zeros(nsnps)\n",
    "    success = cgt_var(x, nsnps, nsamples, SX2, 2)\n",
    "    return SX2"
   ]
  },
  {
   "cell_type": "code",
   "execution_count": null,
   "metadata": {},
   "outputs": [],
   "source": [
    "sigma_x2 = gt_var(gtnorm)"
   ]
  },
  {
   "cell_type": "code",
   "execution_count": null,
   "metadata": {},
   "outputs": [],
   "source": [
    "U, s, VT = np.linalg.svd(expr.T, full_matrices=False)\n",
    "print(\"U:\", U.shape)\n",
    "print(\"s:\", s.shape)\n",
    "print(\"VT:\", VT.shape)"
   ]
  },
  {
   "cell_type": "code",
   "execution_count": null,
   "metadata": {},
   "outputs": [],
   "source": [
    "sigmabeta = 0.01\n",
    "sigma_x2 = np.var(gtnorm,axis=1) # ** 2\n",
    "sb2 = sigmabeta ** 2 # np.repeat ???\n",
    "k = min(nsamples, ngenes)\n",
    "I = np.identity(k)\n",
    "S = I*s"
   ]
  },
  {
   "cell_type": "code",
   "execution_count": null,
   "metadata": {
    "scrolled": true
   },
   "outputs": [],
   "source": [
    "# snpi = 0\n",
    "# innerL = I*s*s + (sigma_x2[snpi]/sb2)*I\n",
    "# innerL_inv = np.linalg.inv(innerL)\n",
    "# V = np.transpose(VT)\n",
    "\n",
    "# left_mat = np.matmul(V, innerL_inv)\n",
    "# print(\"left_mat:\", left_mat.shape)\n",
    "# UT = np.transpose(U)\n",
    "\n",
    "# StUt = np.matmul(S, UT)\n",
    "# print(\"StUt:\",StUt.shape) \n",
    "\n",
    "# A = np.matmul(left_mat, StUt)\n",
    "# # B = np.matmul(A, X)\n",
    "# print(\"A:\",A.shape)\n",
    "\n",
    "# Bi = np.matmul(A, gtnorm[1,:][np.newaxis].T)\n",
    "# print(Bi[:10])"
   ]
  },
  {
   "cell_type": "code",
   "execution_count": null,
   "metadata": {
    "scrolled": true
   },
   "outputs": [],
   "source": [
    "# innerL = (I*s*s + (sigma_x2/sb2)*I)\n",
    "# innerL_inv = np.linalg.inv(innerL)\n",
    "# test = np.matmul(innerL_inv, S)\n",
    "# test\n",
    "snpi = 0\n",
    "innerLinv_ST = (s / (s*s + (sigma_x2[snpi]/sb2))) * I\n",
    "print(\"innerLinv_ST:\", innerLinv_ST.shape)\n",
    "UT = np.transpose(U)\n",
    "V = np.transpose(VT)\n",
    "\n",
    "innerLinv_STUT = np.matmul(innerLinv_ST, UT)\n",
    "print(\"innerLinv_STUT:\", innerLinv_STUT.shape)  # if G < N, then UT is k x N and then innerL_STUT is k x N\n",
    "A2 = np.matmul(V, innerLinv_STUT)\n",
    "print(\"A:\", A2.shape)\n",
    "\n",
    "Bi = np.matmul(A2, gtnorm[snpi,:][np.newaxis].T)\n",
    "print(Bi[:10])"
   ]
  },
  {
   "cell_type": "code",
   "execution_count": null,
   "metadata": {},
   "outputs": [],
   "source": [
    "innerLinv_ST"
   ]
  },
  {
   "cell_type": "code",
   "execution_count": null,
   "metadata": {},
   "outputs": [],
   "source": [
    "import numpy as np\n",
    "import ctypes\n",
    "import os\n",
    "\n",
    "def crevreg(geno, expr, sb2):\n",
    "#     _path = os.path.dirname(\".\")\n",
    "    clib = np.ctypeslib.load_library('../lib/reverse_regression.so', \".\")\n",
    "    cbetas = clib.betas\n",
    "    cbetas.restype = ctypes.c_bool\n",
    "    cbetas.argtypes = [np.ctypeslib.ndpointer(ctypes.c_double, ndim=1, flags='C_CONTIGUOUS, ALIGNED'),\n",
    "                        np.ctypeslib.ndpointer(ctypes.c_double, ndim=1, flags='C_CONTIGUOUS, ALIGNED'),\n",
    "                        np.ctypeslib.ndpointer(ctypes.c_double, ndim=1, flags='C_CONTIGUOUS, ALIGNED'),\n",
    "                        ctypes.c_int,\n",
    "                        ctypes.c_int,\n",
    "                        ctypes.c_int,\n",
    "                        np.ctypeslib.ndpointer(ctypes.c_double, ndim=1, flags='C_CONTIGUOUS, ALIGNED')\n",
    "                       ]\n",
    "\n",
    "    # print(\"expr shape is: genes x nsamples\", expr.shape)\n",
    "    # print(\"geno shape is: snps x nsamples\", geno.shape)\n",
    "    x = geno.reshape(-1,)\n",
    "    y = expr.reshape(-1,)\n",
    "    nsnps = geno.shape[0]\n",
    "    nsamples = geno.shape[1]\n",
    "    ngenes = expr.shape[0]\n",
    "    B = np.zeros(ngenes * nsnps)\n",
    "#     preB = np.zeros(ngenes * nsamples)\n",
    "    success = cbetas(x, y, sb2, ngenes, nsnps, nsamples, B)\n",
    "    return B\n"
   ]
  },
  {
   "cell_type": "code",
   "execution_count": null,
   "metadata": {},
   "outputs": [],
   "source": [
    "# print(s)\n",
    "# print(s*s)\n",
    "# print(sigma_x2[snpi:snpi+3])\n",
    "# print(sb2)\n",
    "# print(innerLinv_STUT[0:5,0:5])\n",
    "# print(innerLinv_ST[0:5,0:5])\n",
    "# print(UT[0:5,0:5])\n",
    "# print(A2.shape)\n",
    "# print(A2)\n",
    "\n",
    "# print(\"Bi: \", Bi.shape)\n",
    "# print(Bi.reshape(-1,)[:100])"
   ]
  },
  {
   "cell_type": "code",
   "execution_count": null,
   "metadata": {},
   "outputs": [],
   "source": [
    "sb2 = np.repeat(sigmabeta ** 2, gtnorm.shape[0])\n",
    "B = crevreg(gtnorm, expr, sb2)"
   ]
  },
  {
   "cell_type": "code",
   "execution_count": null,
   "metadata": {},
   "outputs": [],
   "source": [
    "B[:100]"
   ]
  },
  {
   "cell_type": "code",
   "execution_count": null,
   "metadata": {},
   "outputs": [],
   "source": [
    "Bi.reshape(-1,)"
   ]
  },
  {
   "cell_type": "code",
   "execution_count": null,
   "metadata": {},
   "outputs": [],
   "source": [
    "newB = B.reshape(nsnps, ngenes)"
   ]
  },
  {
   "cell_type": "code",
   "execution_count": null,
   "metadata": {},
   "outputs": [],
   "source": [
    "newB[1]"
   ]
  },
  {
   "cell_type": "code",
   "execution_count": null,
   "metadata": {},
   "outputs": [],
   "source": [
    "np.sort(newB[1])"
   ]
  },
  {
   "cell_type": "code",
   "execution_count": null,
   "metadata": {},
   "outputs": [],
   "source": [
    "np.argpartition(newB[1], 10)"
   ]
  },
  {
   "cell_type": "code",
   "execution_count": null,
   "metadata": {},
   "outputs": [],
   "source": [
    "a = np.zeros((3,4))\n",
    "b = np.ones((3,2))\n",
    "ind = np.array([0,3])\n",
    "inv_ind = np.delete(np.arange(a.shape[1]), ind)\n",
    "a[:,inv_ind] = b\n",
    "a"
   ]
  },
  {
   "cell_type": "code",
   "execution_count": null,
   "metadata": {},
   "outputs": [],
   "source": [
    "allbeta = np.array([])\n",
    "allbeta = np.vstack((a, a ))"
   ]
  }
 ],
 "metadata": {
  "kernelspec": {
   "display_name": "Python 3",
   "language": "python",
   "name": "python3"
  },
  "language_info": {
   "codemirror_mode": {
    "name": "ipython",
    "version": 3
   },
   "file_extension": ".py",
   "mimetype": "text/x-python",
   "name": "python",
   "nbconvert_exporter": "python",
   "pygments_lexer": "ipython3",
   "version": "3.6.7"
  }
 },
 "nbformat": 4,
 "nbformat_minor": 2
}
