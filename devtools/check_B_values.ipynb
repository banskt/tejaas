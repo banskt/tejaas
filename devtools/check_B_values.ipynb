{
 "cells": [
  {
   "cell_type": "code",
   "execution_count": 1,
   "metadata": {},
   "outputs": [],
   "source": [
    "%load_ext autoreload\n",
    "%autoreload 2\n",
    "\n",
    "import sys, os\n",
    "sys.path.append(\"../\")\n"
   ]
  },
  {
   "cell_type": "code",
   "execution_count": 2,
   "metadata": {},
   "outputs": [],
   "source": [
    "import numpy as np\n",
    "from iotools import simulate\n",
    "\n",
    "nsamples = 200\n",
    "ngenes   = 100\n",
    "nsnps    = 1000\n",
    "\n",
    "expr = np.random.normal(0, 1, ngenes*nsamples).reshape(ngenes, nsamples)\n",
    "snpinfo, gtnorm, gtcent = simulate.permuted_dosage(expr, nsnp = nsnps, fmin = 0.1, fmax = 0.9)\n"
   ]
  },
  {
   "cell_type": "code",
   "execution_count": 3,
   "metadata": {},
   "outputs": [],
   "source": [
    "# Get genotype variance as in C\n",
    "import numpy as np\n",
    "import ctypes\n",
    "import os\n",
    "\n",
    "def gt_var(geno):\n",
    "    clib = np.ctypeslib.load_library('../lib/reverse_regression.so', \".\")\n",
    "    cgt_var = clib.genotype_variance\n",
    "    cgt_var.restype = ctypes.c_bool\n",
    "    cgt_var.argtypes = [np.ctypeslib.ndpointer(ctypes.c_double, ndim=1, flags='C_CONTIGUOUS, ALIGNED'),\n",
    "                        ctypes.c_int,\n",
    "                        ctypes.c_int,\n",
    "                        np.ctypeslib.ndpointer(ctypes.c_double, ndim=1, flags='C_CONTIGUOUS, ALIGNED'),\n",
    "                        ctypes.c_int                        \n",
    "                       ]\n",
    "    x = geno.reshape(-1,)\n",
    "    nsnps = geno.shape[0]\n",
    "    nsamples = geno.shape[1]\n",
    "    SX2 = np.zeros(nsnps)\n",
    "    success = cgt_var(x, nsnps, nsamples, SX2, 2)\n",
    "    return SX2"
   ]
  },
  {
   "cell_type": "code",
   "execution_count": 4,
   "metadata": {},
   "outputs": [],
   "source": [
    "sigma_x2 = gt_var(gtnorm)"
   ]
  },
  {
   "cell_type": "code",
   "execution_count": 5,
   "metadata": {},
   "outputs": [
    {
     "name": "stdout",
     "output_type": "stream",
     "text": [
      "U: (200, 100)\n",
      "s: (100,)\n",
      "VT: (100, 100)\n"
     ]
    }
   ],
   "source": [
    "U, s, VT = np.linalg.svd(expr.T, full_matrices=False)\n",
    "print(\"U:\", U.shape)\n",
    "print(\"s:\", s.shape)\n",
    "print(\"VT:\", VT.shape)"
   ]
  },
  {
   "cell_type": "code",
   "execution_count": 6,
   "metadata": {},
   "outputs": [],
   "source": [
    "sigmabeta = 0.01\n",
    "sigma_x2 = np.var(gtnorm,axis=1) # ** 2\n",
    "sb2 = sigmabeta ** 2 # np.repeat ???\n",
    "k = min(nsamples, ngenes)\n",
    "I = np.identity(k)\n",
    "S = I*s"
   ]
  },
  {
   "cell_type": "code",
   "execution_count": 7,
   "metadata": {
    "scrolled": true
   },
   "outputs": [],
   "source": [
    "# snpi = 0\n",
    "# innerL = I*s*s + (sigma_x2[snpi]/sb2)*I\n",
    "# innerL_inv = np.linalg.inv(innerL)\n",
    "# V = np.transpose(VT)\n",
    "\n",
    "# left_mat = np.matmul(V, innerL_inv)\n",
    "# print(\"left_mat:\", left_mat.shape)\n",
    "# UT = np.transpose(U)\n",
    "\n",
    "# StUt = np.matmul(S, UT)\n",
    "# print(\"StUt:\",StUt.shape) \n",
    "\n",
    "# A = np.matmul(left_mat, StUt)\n",
    "# # B = np.matmul(A, X)\n",
    "# print(\"A:\",A.shape)\n",
    "\n",
    "# Bi = np.matmul(A, gtnorm[1,:][np.newaxis].T)\n",
    "# print(Bi[:10])"
   ]
  },
  {
   "cell_type": "code",
   "execution_count": 8,
   "metadata": {
    "scrolled": true
   },
   "outputs": [
    {
     "name": "stdout",
     "output_type": "stream",
     "text": [
      "innerLinv_ST: (100, 100)\n",
      "innerLinv_STUT: (100, 200)\n",
      "A: (100, 200)\n",
      "[[ 5.73908827e-05]\n",
      " [-6.98346094e-04]\n",
      " [ 4.19881711e-04]\n",
      " [ 2.18642433e-03]\n",
      " [-7.65616412e-04]\n",
      " [-3.77948842e-04]\n",
      " [ 1.66053421e-03]\n",
      " [ 4.99618536e-04]\n",
      " [ 3.30592400e-04]\n",
      " [ 8.14125937e-04]]\n"
     ]
    }
   ],
   "source": [
    "# innerL = (I*s*s + (sigma_x2/sb2)*I)\n",
    "# innerL_inv = np.linalg.inv(innerL)\n",
    "# test = np.matmul(innerL_inv, S)\n",
    "# test\n",
    "snpi = 1\n",
    "innerLinv_ST = (s / (s*s + (sigma_x2[snpi]/sb2))) * I\n",
    "print(\"innerLinv_ST:\", innerLinv_ST.shape)\n",
    "UT = np.transpose(U)\n",
    "V = np.transpose(VT)\n",
    "\n",
    "innerLinv_STUT = np.matmul(innerLinv_ST, UT)\n",
    "print(\"innerLinv_STUT:\", innerLinv_STUT.shape)  # if G < N, then UT is k x N and then innerL_STUT is k x N\n",
    "A2 = np.matmul(V, innerLinv_STUT)\n",
    "print(\"A:\", A2.shape)\n",
    "\n",
    "Bi = np.matmul(A2, gtnorm[snpi,:][np.newaxis].T)\n",
    "print(Bi[:10])"
   ]
  },
  {
   "cell_type": "code",
   "execution_count": 9,
   "metadata": {},
   "outputs": [],
   "source": [
    "import numpy as np\n",
    "import ctypes\n",
    "import os\n",
    "\n",
    "def crevreg(geno, expr, sb2):\n",
    "#     _path = os.path.dirname(\".\")\n",
    "    clib = np.ctypeslib.load_library('../lib/reverse_regression.so', \".\")\n",
    "    cbetas = clib.betas\n",
    "    cbetas.restype = ctypes.c_bool\n",
    "    cbetas.argtypes = [np.ctypeslib.ndpointer(ctypes.c_double, ndim=1, flags='C_CONTIGUOUS, ALIGNED'),\n",
    "                        np.ctypeslib.ndpointer(ctypes.c_double, ndim=1, flags='C_CONTIGUOUS, ALIGNED'),\n",
    "                        np.ctypeslib.ndpointer(ctypes.c_double, ndim=1, flags='C_CONTIGUOUS, ALIGNED'),\n",
    "                        ctypes.c_int,\n",
    "                        ctypes.c_int,\n",
    "                        ctypes.c_int,\n",
    "                        np.ctypeslib.ndpointer(ctypes.c_double, ndim=1, flags='C_CONTIGUOUS, ALIGNED')\n",
    "                       ]\n",
    "\n",
    "    # print(\"expr shape is: genes x nsamples\", expr.shape)\n",
    "    # print(\"geno shape is: snps x nsamples\", geno.shape)\n",
    "    x = geno.reshape(-1,)\n",
    "    y = expr.reshape(-1,)\n",
    "    nsnps = geno.shape[0]\n",
    "    nsamples = geno.shape[1]\n",
    "    ngenes = expr.shape[0]\n",
    "    B = np.zeros(ngenes * nsnps)\n",
    "#     preB = np.zeros(ngenes * nsamples)\n",
    "    success = cbetas(x, y, sb2, ngenes, nsnps, nsamples, B)\n",
    "    return B\n"
   ]
  },
  {
   "cell_type": "code",
   "execution_count": 10,
   "metadata": {},
   "outputs": [],
   "source": [
    "# print(s)\n",
    "# print(s*s)\n",
    "# print(sigma_x2[snpi:snpi+3])\n",
    "# print(sb2)\n",
    "# print(innerLinv_STUT[0:5,0:5])\n",
    "# print(innerLinv_ST[0:5,0:5])\n",
    "# print(UT[0:5,0:5])\n",
    "# print(A2.shape)\n",
    "# print(A2)\n",
    "\n",
    "# print(\"Bi: \", Bi.shape)\n",
    "# print(Bi.reshape(-1,)[:100])"
   ]
  },
  {
   "cell_type": "code",
   "execution_count": 11,
   "metadata": {},
   "outputs": [],
   "source": [
    "sb2 = np.repeat(sigmabeta ** 2, gtnorm.shape[0])\n",
    "B = crevreg(gtnorm, expr, sb2)"
   ]
  },
  {
   "cell_type": "code",
   "execution_count": 12,
   "metadata": {},
   "outputs": [
    {
     "data": {
      "text/plain": [
       "array([ 5.73908827e-05, -6.98346094e-04,  4.19881711e-04,  2.18642433e-03,\n",
       "       -7.65616412e-04, -3.77948842e-04,  1.66053421e-03,  4.99618536e-04,\n",
       "        3.30592400e-04,  8.14125937e-04, -1.15058851e-03,  2.02365330e-03,\n",
       "        2.32716688e-04, -1.07305879e-03, -1.90264285e-03,  1.26412002e-03,\n",
       "       -1.43363922e-03, -1.42363302e-03,  2.42167521e-03,  1.46269643e-03,\n",
       "        2.56912897e-04,  3.49421711e-05,  2.62220307e-03, -9.16627014e-04,\n",
       "        2.31850133e-04,  4.79853002e-04,  4.22518409e-05,  3.50517590e-04,\n",
       "        1.28339189e-04, -1.66701842e-03, -3.05569433e-04,  2.63456827e-03,\n",
       "       -1.04498111e-03, -1.85787535e-03,  2.57604260e-03, -9.61487502e-05,\n",
       "        2.29607229e-03, -5.69625496e-04,  5.14996067e-04,  2.90104581e-03,\n",
       "        1.63148226e-03, -3.52476125e-03, -5.92813448e-04, -3.45417373e-04,\n",
       "        9.05368483e-04, -3.03891228e-03, -2.67387809e-03, -1.74036708e-03,\n",
       "        2.28340981e-04, -8.22848792e-04, -4.27462606e-03, -1.30157762e-04,\n",
       "       -4.91782599e-04, -4.49131147e-04, -1.67587790e-03, -1.52923522e-03,\n",
       "        1.46302256e-03,  5.91394129e-04,  1.98316717e-04,  1.50982395e-03,\n",
       "       -2.75848704e-03, -3.91653176e-03, -2.48820143e-04,  2.58771132e-03,\n",
       "        2.01663724e-03, -1.96451745e-03, -1.56211752e-03,  1.04441723e-03,\n",
       "        1.25439326e-03, -8.92411210e-04,  7.06841010e-04, -1.15901318e-03,\n",
       "       -2.43904380e-04,  4.94099943e-03, -1.87281568e-03, -1.44565228e-03,\n",
       "       -8.99558687e-05,  2.85201349e-03, -2.79014674e-04, -2.19563908e-03,\n",
       "        2.40422352e-03,  1.89022882e-04,  3.62200242e-03, -9.53319684e-04,\n",
       "        3.30314047e-03, -3.38205221e-03, -1.48546652e-03,  2.55493606e-03,\n",
       "        2.15769508e-03, -2.56757242e-04, -9.56097461e-04,  7.64443044e-04,\n",
       "       -9.06608441e-04,  2.19175092e-03,  2.38788150e-05, -1.34026408e-04,\n",
       "        1.48345171e-03, -9.98725260e-06,  1.35104826e-03,  3.40392343e-03])"
      ]
     },
     "execution_count": 12,
     "metadata": {},
     "output_type": "execute_result"
    }
   ],
   "source": [
    "B[100:200]"
   ]
  },
  {
   "cell_type": "code",
   "execution_count": 13,
   "metadata": {},
   "outputs": [
    {
     "data": {
      "text/plain": [
       "array([ 5.73908827e-05, -6.98346094e-04,  4.19881711e-04,  2.18642433e-03,\n",
       "       -7.65616412e-04, -3.77948842e-04,  1.66053421e-03,  4.99618536e-04,\n",
       "        3.30592400e-04,  8.14125937e-04, -1.15058851e-03,  2.02365330e-03,\n",
       "        2.32716688e-04, -1.07305879e-03, -1.90264285e-03,  1.26412002e-03,\n",
       "       -1.43363922e-03, -1.42363302e-03,  2.42167521e-03,  1.46269643e-03,\n",
       "        2.56912897e-04,  3.49421711e-05,  2.62220307e-03, -9.16627014e-04,\n",
       "        2.31850133e-04,  4.79853002e-04,  4.22518409e-05,  3.50517590e-04,\n",
       "        1.28339189e-04, -1.66701842e-03, -3.05569433e-04,  2.63456827e-03,\n",
       "       -1.04498111e-03, -1.85787535e-03,  2.57604260e-03, -9.61487502e-05,\n",
       "        2.29607229e-03, -5.69625496e-04,  5.14996067e-04,  2.90104581e-03,\n",
       "        1.63148226e-03, -3.52476125e-03, -5.92813448e-04, -3.45417373e-04,\n",
       "        9.05368483e-04, -3.03891228e-03, -2.67387809e-03, -1.74036708e-03,\n",
       "        2.28340981e-04, -8.22848792e-04, -4.27462606e-03, -1.30157762e-04,\n",
       "       -4.91782599e-04, -4.49131147e-04, -1.67587790e-03, -1.52923522e-03,\n",
       "        1.46302256e-03,  5.91394129e-04,  1.98316717e-04,  1.50982395e-03,\n",
       "       -2.75848704e-03, -3.91653176e-03, -2.48820143e-04,  2.58771132e-03,\n",
       "        2.01663724e-03, -1.96451745e-03, -1.56211752e-03,  1.04441723e-03,\n",
       "        1.25439326e-03, -8.92411210e-04,  7.06841010e-04, -1.15901318e-03,\n",
       "       -2.43904380e-04,  4.94099943e-03, -1.87281568e-03, -1.44565228e-03,\n",
       "       -8.99558687e-05,  2.85201349e-03, -2.79014674e-04, -2.19563908e-03,\n",
       "        2.40422352e-03,  1.89022882e-04,  3.62200242e-03, -9.53319684e-04,\n",
       "        3.30314047e-03, -3.38205221e-03, -1.48546652e-03,  2.55493606e-03,\n",
       "        2.15769508e-03, -2.56757242e-04, -9.56097461e-04,  7.64443044e-04,\n",
       "       -9.06608441e-04,  2.19175092e-03,  2.38788150e-05, -1.34026408e-04,\n",
       "        1.48345171e-03, -9.98725260e-06,  1.35104826e-03,  3.40392343e-03])"
      ]
     },
     "execution_count": 13,
     "metadata": {},
     "output_type": "execute_result"
    }
   ],
   "source": [
    "Bi.reshape(-1,)"
   ]
  },
  {
   "cell_type": "code",
   "execution_count": 14,
   "metadata": {},
   "outputs": [],
   "source": [
    "newB = B.reshape(nsnps, ngenes)"
   ]
  },
  {
   "cell_type": "code",
   "execution_count": 15,
   "metadata": {},
   "outputs": [
    {
     "data": {
      "text/plain": [
       "array([ 5.73908827e-05, -6.98346094e-04,  4.19881711e-04,  2.18642433e-03,\n",
       "       -7.65616412e-04, -3.77948842e-04,  1.66053421e-03,  4.99618536e-04,\n",
       "        3.30592400e-04,  8.14125937e-04, -1.15058851e-03,  2.02365330e-03,\n",
       "        2.32716688e-04, -1.07305879e-03, -1.90264285e-03,  1.26412002e-03,\n",
       "       -1.43363922e-03, -1.42363302e-03,  2.42167521e-03,  1.46269643e-03,\n",
       "        2.56912897e-04,  3.49421711e-05,  2.62220307e-03, -9.16627014e-04,\n",
       "        2.31850133e-04,  4.79853002e-04,  4.22518409e-05,  3.50517590e-04,\n",
       "        1.28339189e-04, -1.66701842e-03, -3.05569433e-04,  2.63456827e-03,\n",
       "       -1.04498111e-03, -1.85787535e-03,  2.57604260e-03, -9.61487502e-05,\n",
       "        2.29607229e-03, -5.69625496e-04,  5.14996067e-04,  2.90104581e-03,\n",
       "        1.63148226e-03, -3.52476125e-03, -5.92813448e-04, -3.45417373e-04,\n",
       "        9.05368483e-04, -3.03891228e-03, -2.67387809e-03, -1.74036708e-03,\n",
       "        2.28340981e-04, -8.22848792e-04, -4.27462606e-03, -1.30157762e-04,\n",
       "       -4.91782599e-04, -4.49131147e-04, -1.67587790e-03, -1.52923522e-03,\n",
       "        1.46302256e-03,  5.91394129e-04,  1.98316717e-04,  1.50982395e-03,\n",
       "       -2.75848704e-03, -3.91653176e-03, -2.48820143e-04,  2.58771132e-03,\n",
       "        2.01663724e-03, -1.96451745e-03, -1.56211752e-03,  1.04441723e-03,\n",
       "        1.25439326e-03, -8.92411210e-04,  7.06841010e-04, -1.15901318e-03,\n",
       "       -2.43904380e-04,  4.94099943e-03, -1.87281568e-03, -1.44565228e-03,\n",
       "       -8.99558687e-05,  2.85201349e-03, -2.79014674e-04, -2.19563908e-03,\n",
       "        2.40422352e-03,  1.89022882e-04,  3.62200242e-03, -9.53319684e-04,\n",
       "        3.30314047e-03, -3.38205221e-03, -1.48546652e-03,  2.55493606e-03,\n",
       "        2.15769508e-03, -2.56757242e-04, -9.56097461e-04,  7.64443044e-04,\n",
       "       -9.06608441e-04,  2.19175092e-03,  2.38788150e-05, -1.34026408e-04,\n",
       "        1.48345171e-03, -9.98725260e-06,  1.35104826e-03,  3.40392343e-03])"
      ]
     },
     "execution_count": 15,
     "metadata": {},
     "output_type": "execute_result"
    }
   ],
   "source": [
    "newB[1]"
   ]
  },
  {
   "cell_type": "code",
   "execution_count": null,
   "metadata": {},
   "outputs": [],
   "source": []
  }
 ],
 "metadata": {
  "kernelspec": {
   "display_name": "Python 3",
   "language": "python",
   "name": "python3"
  },
  "language_info": {
   "codemirror_mode": {
    "name": "ipython",
    "version": 3
   },
   "file_extension": ".py",
   "mimetype": "text/x-python",
   "name": "python",
   "nbconvert_exporter": "python",
   "pygments_lexer": "ipython3",
   "version": "3.6.6"
  }
 },
 "nbformat": 4,
 "nbformat_minor": 2
}
